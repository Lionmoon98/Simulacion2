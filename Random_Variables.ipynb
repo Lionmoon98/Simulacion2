{
  "nbformat": 4,
  "nbformat_minor": 0,
  "metadata": {
    "colab": {
      "name": "Random Variables.ipynb",
      "provenance": [],
      "collapsed_sections": [],
      "include_colab_link": true
    },
    "kernelspec": {
      "name": "python3",
      "display_name": "Python 3"
    },
    "language_info": {
      "name": "python"
    }
  },
  "cells": [
    {
      "cell_type": "markdown",
      "metadata": {
        "id": "view-in-github",
        "colab_type": "text"
      },
      "source": [
        "<a href=\"https://colab.research.google.com/github/Lionmoon98/Simulacion2/blob/main/Random_Variables.ipynb\" target=\"_parent\"><img src=\"https://colab.research.google.com/assets/colab-badge.svg\" alt=\"Open In Colab\"/></a>"
      ]
    },
    {
      "cell_type": "markdown",
      "metadata": {
        "id": "ywass4G8uTLc"
      },
      "source": [
        "#Discrete Probability Distributions"
      ]
    },
    {
      "cell_type": "markdown",
      "metadata": {
        "id": "2aO8ymISvX7u"
      },
      "source": [
        "## Bernoulli Distribution\n",
        "\n",
        "* Probability mass function\n"
      ]
    },
    {
      "cell_type": "code",
      "metadata": {
        "id": "kU7l1BbIuM1k"
      },
      "source": [
        "from scipy.stats import bernoulli"
      ],
      "execution_count": 38,
      "outputs": []
    },
    {
      "cell_type": "code",
      "metadata": {
        "id": "SEqgUT_iv_TL"
      },
      "source": [
        "import matplotlib.pyplot as plt\n"
      ],
      "execution_count": 37,
      "outputs": []
    },
    {
      "cell_type": "code",
      "metadata": {
        "id": "uD38XG2awGff"
      },
      "source": [
        "import numpy as np"
      ],
      "execution_count": 36,
      "outputs": []
    },
    {
      "cell_type": "code",
      "metadata": {
        "id": "YblwcX0ywbpj"
      },
      "source": [
        "p = 0.2"
      ],
      "execution_count": 40,
      "outputs": []
    },
    {
      "cell_type": "code",
      "metadata": {
        "id": "rXnMLjyXv_yd"
      },
      "source": [
        "x = np.arange(bernoulli.ppf(0.01, p),\n",
        "              bernoulli.ppf(0.99, p))"
      ],
      "execution_count": 41,
      "outputs": []
    },
    {
      "cell_type": "code",
      "metadata": {
        "colab": {
          "base_uri": "https://localhost:8080/"
        },
        "id": "Wv9DQ_MJx8L5",
        "outputId": "cf469d34-2538-4f4c-e32c-74e4b268e574"
      },
      "source": [
        "print(x)"
      ],
      "execution_count": null,
      "outputs": [
        {
          "output_type": "stream",
          "name": "stdout",
          "text": [
            "[0.]\n"
          ]
        }
      ]
    },
    {
      "cell_type": "code",
      "metadata": {
        "colab": {
          "base_uri": "https://localhost:8080/",
          "height": 265
        },
        "id": "MPszQ74LwWx7",
        "outputId": "00a2c4de-83a7-4f9c-a9c4-f093b15ecf00"
      },
      "source": [
        "fig, ax = plt.subplots(1, 1)\n",
        "x=[0,1]\n",
        "ax.plot(x, bernoulli.pmf(x, p), 'ro', ms=8, label='bernoulli pmf')\n",
        "ax.legend(loc='best', frameon=False)\n",
        "plt.show()"
      ],
      "execution_count": null,
      "outputs": [
        {
          "output_type": "display_data",
          "data": {
            "image/png": "[encoded data removed]",
            "text/plain": [
              "<Figure size 432x288 with 1 Axes>"
            ]
          },
          "metadata": {
            "needs_background": "light"
          }
        }
      ]
    },
    {
      "cell_type": "markdown",
      "metadata": {
        "id": "6c0EMF6K0HRv"
      },
      "source": [
        "### Ejemplo\n",
        "\n",
        "- $X$: Numero de piezas defectuosas en 1 prueba\n"
      ]
    },
    {
      "cell_type": "markdown",
      "metadata": {
        "id": "4dDpdIZH1Hgt"
      },
      "source": [
        "$P_X(0) = 1-p = 0.8$"
      ]
    },
    {
      "cell_type": "markdown",
      "metadata": {
        "id": "XGftWz4_1X-Q"
      },
      "source": [
        "$P_X(1) = p = 0.2$"
      ]
    },
    {
      "cell_type": "markdown",
      "metadata": {
        "id": "0PSkd_A-1-VA"
      },
      "source": [
        "## Binomial Distribution"
      ]
    },
    {
      "cell_type": "code",
      "metadata": {
        "id": "bIiOHoX72QYj"
      },
      "source": [
        "from scipy.stats import binom"
      ],
      "execution_count": null,
      "outputs": []
    },
    {
      "cell_type": "code",
      "metadata": {
        "id": "WjDHUScx2T2k"
      },
      "source": [
        "n = 10"
      ],
      "execution_count": 27,
      "outputs": []
    },
    {
      "cell_type": "code",
      "metadata": {
        "id": "X5-cpEEJ2LKF"
      },
      "source": [
        "xbin = np.arange(binom.ppf(0.01, n, p),\n",
        "              binom.ppf(0.99, n, p))"
      ],
      "execution_count": null,
      "outputs": []
    },
    {
      "cell_type": "code",
      "metadata": {
        "colab": {
          "base_uri": "https://localhost:8080/",
          "height": 265
        },
        "id": "xwEqvH1O2BSf",
        "outputId": "234ab3c5-7164-45a9-bd96-00e2a0ccd82f"
      },
      "source": [
        "fig, ax = plt.subplots(1, 1)\n",
        "ax.plot(xbin, binom.pmf(xbin,n,p), 'ro', ms=8, label='Binomial pmf')\n",
        "ax.legend(loc='best', frameon=False)\n",
        "plt.show()"
      ],
      "execution_count": null,
      "outputs": [
        {
          "output_type": "display_data",
          "data": {
            "image/png": "[encoded data removed]",
            "text/plain": [
              "<Figure size 432x288 with 1 Axes>"
            ]
          },
          "metadata": {
            "needs_background": "light"
          }
        }
      ]
    },
    {
      "cell_type": "markdown",
      "metadata": {
        "id": "WJ-j2l0x2w2V"
      },
      "source": [
        "### Ejemplo\n",
        "\n",
        "$X$: Numero de piezas defecutosas en 10 pruebas"
      ]
    },
    {
      "cell_type": "code",
      "metadata": {
        "colab": {
          "base_uri": "https://localhost:8080/"
        },
        "id": "-cCId2-c2ypt",
        "outputId": "dc683cd0-94ed-4e87-d78f-4cc8735007b8"
      },
      "source": [
        "for i in range(n+1):\n",
        "  print(\"Probabilidad de que haya piezas defecutosas en {} pruebas\".format(i),binom.pmf(i,n,p))"
      ],
      "execution_count": null,
      "outputs": [
        {
          "output_type": "stream",
          "name": "stdout",
          "text": [
            "Probabilidad de que haya piezas defecutosas en 0 pruebas 0.1073741824\n",
            "Probabilidad de que haya piezas defecutosas en 1 pruebas 0.2684354560000003\n",
            "Probabilidad de que haya piezas defecutosas en 2 pruebas 0.301989888\n",
            "Probabilidad de que haya piezas defecutosas en 3 pruebas 0.20132659200000022\n",
            "Probabilidad de que haya piezas defecutosas en 4 pruebas 0.08808038400000008\n",
            "Probabilidad de que haya piezas defecutosas en 5 pruebas 0.02642411520000004\n",
            "Probabilidad de que haya piezas defecutosas en 6 pruebas 0.00550502400000001\n",
            "Probabilidad de que haya piezas defecutosas en 7 pruebas 0.0007864320000000006\n",
            "Probabilidad de que haya piezas defecutosas en 8 pruebas 7.372800000000005e-05\n",
            "Probabilidad de que haya piezas defecutosas en 9 pruebas 4.096000000000007e-06\n",
            "Probabilidad de que haya piezas defecutosas en 10 pruebas 1.0240000000000004e-07\n"
          ]
        }
      ]
    },
    {
      "cell_type": "markdown",
      "metadata": {
        "id": "_wORiA_jBxv7"
      },
      "source": [
        "# Continuos Probability Distributions"
      ]
    },
    {
      "cell_type": "markdown",
      "metadata": {
        "id": "5FK96vf_B13J"
      },
      "source": [
        "## Chi$^2$"
      ]
    },
    {
      "cell_type": "code",
      "metadata": {
        "id": "qCBtecFpB05K"
      },
      "source": [
        "from scipy.stats import chi2"
      ],
      "execution_count": 30,
      "outputs": []
    },
    {
      "cell_type": "code",
      "metadata": {
        "id": "p4pJdvTiCEtp"
      },
      "source": [
        "df = 50"
      ],
      "execution_count": 29,
      "outputs": []
    },
    {
      "cell_type": "code",
      "metadata": {
        "id": "Vs88xxR4B_xI"
      },
      "source": [
        "x = np.linspace(chi2.ppf(0.01, df),\n",
        "                chi2.ppf(0.99, df), 100)"
      ],
      "execution_count": 42,
      "outputs": []
    },
    {
      "cell_type": "code",
      "metadata": {
        "colab": {
          "base_uri": "https://localhost:8080/",
          "height": 265
        },
        "id": "CoYFRNjTB-2B",
        "outputId": "f4542233-f266-45a6-dddc-a9d3e591b19f"
      },
      "source": [
        "fig, ax = plt.subplots(1, 1)\n",
        "ax.plot(x, chi2.pdf(x, df),\n",
        "       'r-', lw=5, alpha=0.6, label='chi2 pdf')\n",
        "ax.legend(loc='best', frameon=False)\n",
        "plt.show()"
      ],
      "execution_count": null,
      "outputs": [
        {
          "output_type": "display_data",
          "data": {
            "image/png": "[encoded data removed]",
            "text/plain": [
              "<Figure size 432x288 with 1 Axes>"
            ]
          },
          "metadata": {
            "needs_background": "light"
          }
        }
      ]
    },
    {
      "cell_type": "markdown",
      "metadata": {
        "id": "BARpcFEEDjif"
      },
      "source": [
        "## Exponential Distribution"
      ]
    },
    {
      "cell_type": "code",
      "metadata": {
        "id": "RgRzIIpfDp-3"
      },
      "source": [
        "from scipy.stats import expon"
      ],
      "execution_count": 32,
      "outputs": []
    },
    {
      "cell_type": "code",
      "metadata": {
        "id": "pMVzMa37DjUB"
      },
      "source": [
        "x = np.linspace(expon.ppf(0.01),\n",
        "                expon.ppf(0.99), 100)"
      ],
      "execution_count": 43,
      "outputs": []
    },
    {
      "cell_type": "code",
      "metadata": {
        "colab": {
          "base_uri": "https://localhost:8080/",
          "height": 265
        },
        "id": "PSlOuCwhCOpM",
        "outputId": "a7d98b7d-16c1-4a7c-cd6b-15ec532669e6"
      },
      "source": [
        "fig, ax = plt.subplots(1, 1)\n",
        "ax.plot(x, expon.pdf(x),\n",
        "       'r-', lw=5, alpha=0.6, label='expon pdf')\n",
        "ax.legend(loc='best', frameon=False)\n",
        "plt.show()"
      ],
      "execution_count": null,
      "outputs": [
        {
          "output_type": "display_data",
          "data": {
            "image/png": "[encoded data removed]",
            "text/plain": [
              "<Figure size 432x288 with 1 Axes>"
            ]
          },
          "metadata": {
            "needs_background": "light"
          }
        }
      ]
    },
    {
      "cell_type": "markdown",
      "metadata": {
        "id": "WvzqvVWeIN70"
      },
      "source": [
        "# $χ^2$ Test"
      ]
    },
    {
      "cell_type": "markdown",
      "metadata": {
        "id": "Ugq7YXgMvw-a"
      },
      "source": [
        "Data: Numero de automoviles que entran a una gasolinera cada hora"
      ]
    },
    {
      "cell_type": "markdown",
      "metadata": {
        "id": "nTSvZsRGv5Hz"
      },
      "source": [
        "Problema: Determinar la distribucion de probabilidad con un nivel de confianza del 95%"
      ]
    },
    {
      "cell_type": "code",
      "metadata": {
        "id": "lriLOIAUIUsv"
      },
      "source": [
        "data = [14,7,13,16,16,13,14,17,15,16,13,15,10,15,16,14,12,17,14,12,13,20,8,17,19,11,12,17,9,18,20,10,18,15,13,16,24,18,16,18,12,14,20,15,10,13,21,23,15,18]"
      ],
      "execution_count": 15,
      "outputs": []
    },
    {
      "cell_type": "code",
      "metadata": {
        "id": "Jp7DclEl0Jbi"
      },
      "source": [
        "data.sort()"
      ],
      "execution_count": 16,
      "outputs": []
    },
    {
      "cell_type": "code",
      "metadata": {
        "colab": {
          "base_uri": "https://localhost:8080/"
        },
        "id": "VAEJ5lqlJVpu",
        "outputId": "331022cf-5760-49a4-c2b9-7e7918d8442d"
      },
      "source": [
        "print(data)"
      ],
      "execution_count": 17,
      "outputs": [
        {
          "output_type": "stream",
          "name": "stdout",
          "text": [
            "[7, 8, 9, 10, 10, 10, 11, 12, 12, 12, 12, 13, 13, 13, 13, 13, 13, 14, 14, 14, 14, 14, 15, 15, 15, 15, 15, 15, 16, 16, 16, 16, 16, 16, 17, 17, 17, 17, 18, 18, 18, 18, 18, 19, 20, 20, 20, 21, 23, 24]\n"
          ]
        }
      ]
    },
    {
      "cell_type": "code",
      "metadata": {
        "id": "jm48D0TMJWno"
      },
      "source": [
        "mean = sum(data)/len(data)"
      ],
      "execution_count": 18,
      "outputs": []
    },
    {
      "cell_type": "code",
      "metadata": {
        "colab": {
          "base_uri": "https://localhost:8080/"
        },
        "id": "2CgbyS9QvjTN",
        "outputId": "e4ecb51e-57cd-48f3-e214-d6b1cb9696fa"
      },
      "source": [
        "print(mean)"
      ],
      "execution_count": 19,
      "outputs": [
        {
          "output_type": "stream",
          "name": "stdout",
          "text": [
            "15.04\n"
          ]
        }
      ]
    },
    {
      "cell_type": "code",
      "metadata": {
        "id": "BnwVpF4wJuVt"
      },
      "source": [
        "variance = sum([(x-mean)**2 for x in data])/(len(data)-1)"
      ],
      "execution_count": 20,
      "outputs": []
    },
    {
      "cell_type": "code",
      "metadata": {
        "colab": {
          "base_uri": "https://localhost:8080/"
        },
        "id": "o8T08oY2vlsk",
        "outputId": "40d144dd-dc48-4320-dc12-c2e9af301f0c"
      },
      "source": [
        "print(variance)"
      ],
      "execution_count": 26,
      "outputs": [
        {
          "output_type": "stream",
          "name": "stdout",
          "text": [
            "13.141224489795924\n"
          ]
        }
      ]
    },
    {
      "cell_type": "code",
      "metadata": {
        "id": "U8D8X-7Hu14K"
      },
      "source": [
        "m = int(np.sqrt(len(data)))"
      ],
      "execution_count": 44,
      "outputs": []
    },
    {
      "cell_type": "code",
      "metadata": {
        "colab": {
          "base_uri": "https://localhost:8080/"
        },
        "id": "P4IF9AYxu7Ei",
        "outputId": "3c186957-1122-44ab-c72e-c05c57eab0a8"
      },
      "source": [
        "print(m)"
      ],
      "execution_count": 45,
      "outputs": [
        {
          "output_type": "stream",
          "name": "stdout",
          "text": [
            "7\n"
          ]
        }
      ]
    },
    {
      "cell_type": "code",
      "metadata": {
        "id": "WgJ45ojcwjZR",
        "colab": {
          "base_uri": "https://localhost:8080/"
        },
        "outputId": "1cb7f845-23df-4502-bec1-aa5c92190ccb"
      },
      "source": [
        "i = 0\n",
        "start_range = 7\n",
        "range_increase = (max(data) - min(data))/m\n",
        "end_range = start_range + range_increase # 7\n",
        "table = [] # [{ei: ..., oi:...}]\n",
        "\n",
        "while end_range <= 50:\n",
        "  temp = 0\n",
        "  for element in data:\n",
        "    if start_range <= element < end_range:\n",
        "      temp += 1\n",
        "  observed_frequency=temp\n",
        "  print(\"[{0:<3},{1}){2:^6}\".format(round(start_range,2),round(end_range,2),observed_frequency))\n",
        "  i += 1\n",
        "  start_range = end_range\n",
        "  end_range = start_range + range_increase\n",
        "\n",
        "# 0 - 7\n",
        "# 7 - 14\n",
        "# 14 - 21\n",
        "... "
      ],
      "execution_count": 48,
      "outputs": [
        {
          "output_type": "stream",
          "name": "stdout",
          "text": [
            "[7  ,9.43)  3   \n",
            "[9.43,11.86)  4   \n",
            "[11.86,14.29)  15  \n",
            "[14.29,16.71)  12  \n",
            "[16.71,19.14)  10  \n",
            "[19.14,21.57)  4   \n",
            "[21.57,24.0)  1   \n",
            "[24.0,26.43)  1   \n",
            "[26.43,28.86)  0   \n",
            "[28.86,31.29)  0   \n",
            "[31.29,33.71)  0   \n",
            "[33.71,36.14)  0   \n",
            "[36.14,38.57)  0   \n",
            "[38.57,41.0)  0   \n",
            "[41.0,43.43)  0   \n",
            "[43.43,45.86)  0   \n",
            "[45.86,48.29)  0   \n"
          ]
        },
        {
          "output_type": "execute_result",
          "data": {
            "text/plain": [
              "Ellipsis"
            ]
          },
          "metadata": {},
          "execution_count": 48
        }
      ]
    },
    {
      "cell_type": "code",
      "metadata": {
        "id": "joi0d9jVxE86"
      },
      "source": [
        ""
      ],
      "execution_count": 2,
      "outputs": []
    },
    {
      "cell_type": "code",
      "metadata": {
        "colab": {
          "base_uri": "https://localhost:8080/",
          "height": 265
        },
        "id": "QCms-uyBKT6k",
        "outputId": "70c79535-21cd-4ac2-a688-df8581656755"
      },
      "source": [
        "fig, ax = plt.subplots(1, 1)\n",
        "ax.hist(data,bins=int(np.sqrt(len(data))))\n",
        "plt.show()"
      ],
      "execution_count": 47,
      "outputs": [
        {
          "output_type": "display_data",
          "data": {
            "image/png": "[encoded data removed]",
            "text/plain": [
              "<Figure size 432x288 with 1 Axes>"
            ]
          },
          "metadata": {
            "needs_background": "light"
          }
        }
      ]
    },
    {
      "cell_type": "code",
      "metadata": {
        "id": "Yq3TEC7pKvYp"
      },
      "source": [
        ""
      ],
      "execution_count": null,
      "outputs": []
    }
  ]
}